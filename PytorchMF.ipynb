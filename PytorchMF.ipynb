{
 "cells": [
  {
   "cell_type": "markdown",
   "id": "b8eb1c15",
   "metadata": {},
   "source": [
    "https://blog.fastforwardlabs.com/2018/04/10/pytorch-for-recommenders-101.html"
   ]
  },
  {
   "cell_type": "code",
   "execution_count": null,
   "id": "ec0ed379",
   "metadata": {},
   "outputs": [],
   "source": [
    "import pandas as pd\n",
    "from tqdm.notebook import tqdm\n",
    "import numpy as np\n",
    "import utils\n",
    "\n",
    "import torch\n",
    "from torch.autograd import Variable\n",
    "from torch.utils.data import Dataset, DataLoader\n",
    "import torch.nn.functional as F\n",
    "device = torch.device('cuda' if torch.cuda.is_available() else 'cpu')\n",
    "import matplotlib.pyplot as plt\n",
    "device"
   ]
  },
  {
   "cell_type": "code",
   "execution_count": null,
   "id": "ae75bd28",
   "metadata": {},
   "outputs": [],
   "source": [
    "rating,_,_ = utils.get_movielens_data()\n",
    "n_users = rating[\"userid\"].max() + 1\n",
    "n_items = rating[\"itemid\"].max() + 1\n",
    "print(n_users, n_items)\n",
    "train_df, test_df = utils.movielens_train_test_split(rating)\n",
    "train_df.shape, test_df.shape"
   ]
  },
  {
   "cell_type": "markdown",
   "id": "1a55bbaf",
   "metadata": {},
   "source": [
    "# Model"
   ]
  },
  {
   "cell_type": "code",
   "execution_count": null,
   "id": "b906ff41",
   "metadata": {},
   "outputs": [],
   "source": [
    "n_users"
   ]
  },
  {
   "cell_type": "code",
   "execution_count": null,
   "id": "6ea8587d",
   "metadata": {},
   "outputs": [],
   "source": [
    "class MatrixFactorization(torch.nn.Module):\n",
    "    def __init__(self, n_users, n_items, n_factors=20):\n",
    "        super().__init__()\n",
    "        # create user embeddings\n",
    "        self.user_factors = torch.nn.Embedding(n_users, n_factors, sparse=True)\n",
    "        # create item embeddings\n",
    "        self.item_factors = torch.nn.Embedding(n_items, n_factors, sparse=True)\n",
    "\n",
    "    def forward(self, user, item):\n",
    "        return (self.user_factors(user) * self.item_factors(item)).sum(1)\n",
    "\n",
    "    def predict(self, user, item):\n",
    "        return self.forward(user, item)"
   ]
  },
  {
   "cell_type": "code",
   "execution_count": null,
   "id": "fc43fe71",
   "metadata": {},
   "outputs": [],
   "source": [
    "model = MatrixFactorization(n_users, n_items, n_factors=20)\n",
    "loss_fn = torch.nn.MSELoss()\n",
    "optimizer = torch.optim.SGD(model.parameters(), lr=1e-4)\n",
    "\n",
    "model = model.to(device)"
   ]
  },
  {
   "cell_type": "code",
   "execution_count": null,
   "id": "f362f913",
   "metadata": {},
   "outputs": [],
   "source": [
    "trainloader = DataLoader(train_df.values, batch_size=128)\n",
    "testloader = DataLoader(test_df.values, batch_size=128)"
   ]
  },
  {
   "cell_type": "code",
   "execution_count": null,
   "id": "ea10b763",
   "metadata": {},
   "outputs": [],
   "source": [
    "def test_method():\n",
    "    maes = []\n",
    "    for batch in tqdm(testloader):\n",
    "        user = batch[:, 0].type(torch.LongTensor).to(device)\n",
    "        item = batch[:, 1].type(torch.LongTensor).to(device)\n",
    "\n",
    "        score = batch[:, 2].type(torch.FloatTensor)\n",
    "        prediction = model(user, item)\n",
    "        mae = np.mean(np.abs((prediction.cpu() - score).detach().numpy()))\n",
    "        maes.append(mae)\n",
    "    return np.mean(maes)"
   ]
  },
  {
   "cell_type": "code",
   "execution_count": null,
   "id": "c61dbad0",
   "metadata": {},
   "outputs": [],
   "source": [
    "losses = []\n",
    "for epoch in range(50):\n",
    "    losses_epoch = []\n",
    "    for batch in tqdm(trainloader):\n",
    "        user = batch[:, 0].type(torch.LongTensor).to(device)\n",
    "        item = batch[:, 1].type(torch.LongTensor).to(device)\n",
    "\n",
    "        score = batch[:, 2].view(-1, 1).type(torch.FloatTensor)\n",
    "        prediction = model(user, item)\n",
    "        loss = loss_fn(prediction, score.to(device))\n",
    "        loss.backward()\n",
    "        optimizer.step()\n",
    "        losses_epoch.append(loss.item())\n",
    "    losses.append(np.mean(losses_epoch))\n",
    "    print(losses[-1])\n",
    "    print(\"TEST \", test_method())"
   ]
  },
  {
   "cell_type": "code",
   "execution_count": null,
   "id": "f7547764",
   "metadata": {},
   "outputs": [],
   "source": []
  },
  {
   "cell_type": "code",
   "execution_count": null,
   "id": "c07befe1",
   "metadata": {},
   "outputs": [],
   "source": []
  }
 ],
 "metadata": {
  "kernelspec": {
   "display_name": "Python 3",
   "language": "python",
   "name": "python3"
  },
  "language_info": {
   "codemirror_mode": {
    "name": "ipython",
    "version": 3
   },
   "file_extension": ".py",
   "mimetype": "text/x-python",
   "name": "python",
   "nbconvert_exporter": "python",
   "pygments_lexer": "ipython3",
   "version": "3.7.4"
  }
 },
 "nbformat": 4,
 "nbformat_minor": 5
}
