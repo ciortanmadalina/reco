{
 "cells": [
  {
   "cell_type": "markdown",
   "id": "d327b8b0",
   "metadata": {},
   "source": [
    "# Summary\n",
    "\n",
    "This notebook proposes several naive baselines for recommendations."
   ]
  },
  {
   "cell_type": "code",
   "execution_count": 1,
   "id": "8d1006d0",
   "metadata": {},
   "outputs": [],
   "source": [
    "import pandas as pd\n",
    "from tqdm.notebook import tqdm\n",
    "import numpy as np\n",
    "import utils\n",
    "from collections import Counter\n",
    "from sklearn.metrics import mean_absolute_error, mean_squared_error\n",
    "from sklearn.preprocessing import MinMaxScaler\n",
    "import matplotlib.pyplot as plt"
   ]
  },
  {
   "cell_type": "code",
   "execution_count": 2,
   "id": "5f14b31d",
   "metadata": {},
   "outputs": [
    {
     "name": "stdout",
     "output_type": "stream",
     "text": [
      "(100000, 4)\n",
      "(1682, 24)\n",
      "(943, 5)\n"
     ]
    }
   ],
   "source": [
    "rating, user_column_index, item_column_index = utils.get_movielens_data()"
   ]
  },
  {
   "cell_type": "code",
   "execution_count": 3,
   "id": "64d21c38",
   "metadata": {},
   "outputs": [],
   "source": [
    "rating[\"rating\"] = rating[\"rating\"]/5\n",
    "# rating[\"rating\"] =  MinMaxScaler().fit_transform(rating[[\"rating\"]].values).reshape(-1)"
   ]
  },
  {
   "cell_type": "code",
   "execution_count": 4,
   "id": "43506c8f",
   "metadata": {},
   "outputs": [
    {
     "name": "stdout",
     "output_type": "stream",
     "text": [
      "944 1683\n"
     ]
    },
    {
     "data": {
      "text/plain": [
       "((98105, 49), (943, 49))"
      ]
     },
     "execution_count": 4,
     "metadata": {},
     "output_type": "execute_result"
    }
   ],
   "source": [
    "n_users = rating[\"userid\"].max() + 1\n",
    "n_items = rating[\"itemid\"].max() + 1\n",
    "print(n_users, n_items)\n",
    "train_df, test_df = utils.movielens_train_test_split(rating)\n",
    "train_df.shape, test_df.shape\n",
    "\n",
    "train_df, val_df = utils.movielens_train_test_split(train_df)\n",
    "train_df.shape, val_df.shape"
   ]
  },
  {
   "cell_type": "code",
   "execution_count": 5,
   "id": "4da588bc",
   "metadata": {
    "scrolled": true
   },
   "outputs": [
    {
     "data": {
      "text/plain": [
       "<AxesSubplot:>"
      ]
     },
     "execution_count": 5,
     "metadata": {},
     "output_type": "execute_result"
    },
    {
     "data": {
      "image/png": "[encoded data removed]",
      "text/plain": [
       "<Figure size 432x288 with 1 Axes>"
      ]
     },
     "metadata": {
      "needs_background": "light"
     },
     "output_type": "display_data"
    }
   ],
   "source": [
    "test_df[\"rating\"].hist()"
   ]
  },
  {
   "cell_type": "markdown",
   "id": "3f75811f",
   "metadata": {},
   "source": [
    "# Predict the train average of all users"
   ]
  },
  {
   "cell_type": "code",
   "execution_count": 6,
   "id": "957b2c53",
   "metadata": {},
   "outputs": [
    {
     "name": "stdout",
     "output_type": "stream",
     "text": [
      "0.19339420117424932\n",
      "0.19594300758655422\n"
     ]
    }
   ],
   "source": [
    "print(np.mean(np.abs(test_df[\"rating\"].values - test_df[\"rating\"].mean())))\n",
    "print(np.mean(np.abs(test_df[\"rating\"].values - train_df[\"rating\"].mean())))"
   ]
  },
  {
   "cell_type": "markdown",
   "id": "b371772b",
   "metadata": {},
   "source": [
    "# Predict the train mode of all users"
   ]
  },
  {
   "cell_type": "code",
   "execution_count": 7,
   "id": "c0d0b87b",
   "metadata": {},
   "outputs": [
    {
     "name": "stdout",
     "output_type": "stream",
     "text": [
      "0.17985153764581127\n",
      "0.17985153764581127\n"
     ]
    }
   ],
   "source": [
    "print(np.mean(np.abs(test_df[\"rating\"].values - train_df[\"rating\"].mode()[0])))\n",
    "print(np.mean(np.abs(test_df[\"rating\"].values - test_df[\"rating\"].mode()[0])))"
   ]
  },
  {
   "cell_type": "markdown",
   "id": "636d40e1",
   "metadata": {},
   "source": [
    "# For each user predict its average"
   ]
  },
  {
   "cell_type": "code",
   "execution_count": 8,
   "id": "81b7cc40",
   "metadata": {},
   "outputs": [
    {
     "name": "stdout",
     "output_type": "stream",
     "text": [
      "MAE for mean 0.17189974911612543\n"
     ]
    }
   ],
   "source": [
    "pred  = train_df.groupby(\"userid\")[[\"rating\"]].mean().reset_index()\n",
    "res = pd.merge(test_df[['userid', 'itemid', 'rating']], pred, on = ['userid'], how = \"left\")\n",
    "print(\"MAE for mean\", mean_absolute_error(res[\"rating_x\"].values, res[\"rating_y\"].values))"
   ]
  },
  {
   "cell_type": "markdown",
   "id": "e70a86ca",
   "metadata": {},
   "source": [
    "# For each user predict its mode"
   ]
  },
  {
   "cell_type": "code",
   "execution_count": 9,
   "id": "27154229",
   "metadata": {},
   "outputs": [
    {
     "name": "stdout",
     "output_type": "stream",
     "text": [
      "MAE for mode 0.17454931071049842\n"
     ]
    }
   ],
   "source": [
    "pred  = train_df.groupby(\"userid\")[[\"rating\"]].agg(\n",
    "    lambda x:x.value_counts().index[0]).reset_index()\n",
    "\n",
    "res = pd.merge(test_df[['userid', 'itemid', 'rating']], pred, on = ['userid'], how = \"left\")\n",
    "print(\"MAE for mode\", mean_absolute_error(res[\"rating_x\"].values, res[\"rating_y\"].values))"
   ]
  },
  {
   "cell_type": "code",
   "execution_count": null,
   "id": "66fd8ce4",
   "metadata": {},
   "outputs": [],
   "source": []
  },
  {
   "cell_type": "code",
   "execution_count": null,
   "id": "ad6c9361",
   "metadata": {},
   "outputs": [],
   "source": []
  },
  {
   "cell_type": "code",
   "execution_count": null,
   "id": "e29e0b4a",
   "metadata": {},
   "outputs": [],
   "source": []
  },
  {
   "cell_type": "code",
   "execution_count": null,
   "id": "06a7707b",
   "metadata": {},
   "outputs": [],
   "source": []
  }
 ],
 "metadata": {
  "kernelspec": {
   "display_name": "Python 3",
   "language": "python",
   "name": "python3"
  },
  "language_info": {
   "codemirror_mode": {
    "name": "ipython",
    "version": 3
   },
   "file_extension": ".py",
   "mimetype": "text/x-python",
   "name": "python",
   "nbconvert_exporter": "python",
   "pygments_lexer": "ipython3",
   "version": "3.7.4"
  }
 },
 "nbformat": 4,
 "nbformat_minor": 5
}
