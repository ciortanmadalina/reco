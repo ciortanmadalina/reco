{
 "cells": [
  {
   "cell_type": "code",
   "execution_count": 1,
   "id": "975ec74e",
   "metadata": {},
   "outputs": [],
   "source": [
    "# ! pip install tensorflow==2.8.0\n",
    "# ! pip install tensorflow_recommenders"
   ]
  },
  {
   "cell_type": "markdown",
   "id": "a7855059",
   "metadata": {},
   "source": [
    "# Summary\n",
    "\n",
    "This notebook build upon the tutorial:\n",
    "\n",
    "https://towardsdatascience.com/a-complete-guide-to-recommender-system-tutorial-with-sklearn-surprise-keras-recommender-5e52e8ceace1"
   ]
  },
  {
   "cell_type": "code",
   "execution_count": 2,
   "id": "57b8acd2",
   "metadata": {},
   "outputs": [],
   "source": [
    "import pandas as pd\n",
    "from tqdm.notebook import tqdm\n",
    "import numpy as np\n",
    "import utils\n",
    "from collections import Counter\n",
    "from sklearn.metrics import mean_absolute_error, mean_squared_error\n",
    "from sklearn.preprocessing import MinMaxScaler\n",
    "import matplotlib.pyplot as plt\n",
    "\n",
    "import tensorflow as tf\n",
    "from tensorflow import keras\n",
    "import tensorflow_recommenders as tfrs"
   ]
  },
  {
   "cell_type": "code",
   "execution_count": 3,
   "id": "394d506c",
   "metadata": {},
   "outputs": [
    {
     "name": "stdout",
     "output_type": "stream",
     "text": [
      "(100000, 4)\n",
      "(1682, 24)\n",
      "(943, 5)\n",
      "944 1683\n"
     ]
    },
    {
     "data": {
      "text/plain": [
       "((98105, 49), (943, 49))"
      ]
     },
     "execution_count": 3,
     "metadata": {},
     "output_type": "execute_result"
    }
   ],
   "source": [
    "rating, user_column_index, item_column_index = utils.get_movielens_data()\n",
    "\n",
    "rating[\"rating\"] = rating[\"rating\"]/5\n",
    "\n",
    "\n",
    "n_users = rating[\"userid\"].max() + 1\n",
    "n_items = rating[\"itemid\"].max() + 1\n",
    "print(n_users, n_items)\n",
    "train_df, test_df = utils.movielens_train_test_split(rating)\n",
    "train_df.shape, test_df.shape\n",
    "\n",
    "train_df, val_df = utils.movielens_train_test_split(train_df)\n",
    "train_df.shape, val_df.shape"
   ]
  },
  {
   "cell_type": "markdown",
   "id": "5c55bbe5",
   "metadata": {},
   "source": [
    "# Matrix factorization model + linear layers"
   ]
  },
  {
   "cell_type": "code",
   "execution_count": 4,
   "id": "01733782",
   "metadata": {},
   "outputs": [],
   "source": [
    "\n",
    "def df_to_ds(df):\n",
    "    return {\n",
    "        \"user_id\" : tf.constant(df['userid'].values.astype(str)),\n",
    "        \"item_id\" : tf.constant(df['itemid'].values.astype(str)),\n",
    "        'rating' : tf.constant(df['rating'].tolist())\n",
    "    }"
   ]
  },
  {
   "cell_type": "code",
   "execution_count": 5,
   "id": "80c1eb9a",
   "metadata": {},
   "outputs": [],
   "source": [
    "class RankingModel(tfrs.Model):\n",
    "\n",
    "    def __init__(self, user_id, item_id, embedding_size):\n",
    "        super().__init__()\n",
    "        \n",
    "        # user model\n",
    "        input = keras.Input(shape=(), dtype=tf.string)\n",
    "        x = tf.keras.layers.StringLookup(\n",
    "            vocabulary = user_id, mask_token = None\n",
    "            )(input)\n",
    "        output = keras.layers.Embedding(\n",
    "            input_dim = len(user_id) + 1,\n",
    "            output_dim = embedding_size,\n",
    "            name = 'embedding'\n",
    "        )(x)\n",
    "        self.user_model = keras.Model(inputs = input,\n",
    "                                      outputs = output,\n",
    "                                      name = 'user_model')\n",
    "\n",
    "        # item model\n",
    "        input = keras.Input(shape=(), dtype=tf.string)\n",
    "        x = tf.keras.layers.StringLookup(\n",
    "            vocabulary = item_id, mask_token = None\n",
    "            )(input)\n",
    "        output = keras.layers.Embedding(\n",
    "            input_dim = len(item_id) + 1,\n",
    "            output_dim = embedding_size,\n",
    "            name = 'embedding'\n",
    "        )(x)\n",
    "        self.item_model = keras.Model(inputs = input,\n",
    "                                  outputs = output,\n",
    "                                  name = 'item_model')\n",
    "\n",
    "        # rating model\n",
    "        concat_shape = self.user_model.layers[-1].output_shape[1] \\\n",
    "        + self.item_model.layers[-1].output_shape[1] \n",
    "\n",
    "        input = keras.Input(shape=(concat_shape,))\n",
    "        x = keras.layers.Dense(256, activation = 'relu')(input)\n",
    "        x = keras.layers.Dense(64, activation = 'relu')(x)\n",
    "        output = keras.layers.Dense(1)(x)\n",
    "        \n",
    "        self.ratings = keras.Model(\n",
    "            inputs = input,\n",
    "            outputs = output,\n",
    "            name = 'rating_model'\n",
    "        )\n",
    "\n",
    "    def call(self, inputs):\n",
    "\n",
    "        user_id, item_id = inputs\n",
    "\n",
    "        user_emb = self.user_model(user_id)\n",
    "        item_emb = self.item_model(item_id)\n",
    "        concat = tf.concat([user_emb, item_emb], axis = 1)\n",
    "        prediction = self.ratings(concat)\n",
    "        \n",
    "        return prediction\n",
    "\n",
    "class GMFModel(tfrs.models.Model):\n",
    "\n",
    "    def __init__(self, user_id, item_id, embedding_size):\n",
    "        super().__init__()\n",
    "        self.ranking_model = RankingModel(user_id,\n",
    "                                          item_id,\n",
    "                                          embedding_size)\n",
    "        self.task = tfrs.tasks.Ranking(\n",
    "            loss = keras.losses.MeanSquaredError(),\n",
    "            metrics = [keras.metrics.RootMeanSquaredError(), keras.metrics.MeanAbsoluteError()]\n",
    "        )\n",
    "    \n",
    "    def call(self, features):\n",
    "        return self.ranking_model(\n",
    "            (features[0]['user_id'], features[0]['item_id'])\n",
    "        )\n",
    "\n",
    "    def compute_loss(self, features, training=False):\n",
    "        label = features[0]['rating']\n",
    "        return self.task(labels = label,\n",
    "                         predictions = self(features))"
   ]
  },
  {
   "cell_type": "code",
   "execution_count": 6,
   "id": "cae7e222",
   "metadata": {},
   "outputs": [],
   "source": [
    "# get data\n",
    "train, val, test = df_to_ds(train_df), df_to_ds(val_df), df_to_ds(test_df)"
   ]
  },
  {
   "cell_type": "code",
   "execution_count": 7,
   "id": "7fc64f3c",
   "metadata": {},
   "outputs": [],
   "source": [
    "# init model\n",
    "embedding_size = 32\n",
    "model = GMFModel(train_df[\"userid\"].unique().astype(str),\n",
    "                 train_df[\"itemid\"].unique().astype(str), embedding_size)\n",
    "model.compile(optimizer=keras.optimizers.Adagrad(learning_rate=.01))"
   ]
  },
  {
   "cell_type": "code",
   "execution_count": 8,
   "id": "d7bc5565",
   "metadata": {},
   "outputs": [
    {
     "name": "stdout",
     "output_type": "stream",
     "text": [
      "\n",
      "Evaluation on the test set:\n"
     ]
    },
    {
     "data": {
      "text/plain": [
       "{'root_mean_squared_error': 0.19968903064727783,\n",
       " 'mean_absolute_error': 0.1572180539369583,\n",
       " 'loss': 0.03660823404788971,\n",
       " 'regularization_loss': 0,\n",
       " 'total_loss': 0.03660823404788971}"
      ]
     },
     "metadata": {},
     "output_type": "display_data"
    }
   ],
   "source": [
    "# fitthe model\n",
    "hist = model.fit(train, epochs=10, verbose=False, validation_data=val)\n",
    "\n",
    "# evaluate with the test data\n",
    "result = model.evaluate(test, return_dict=True, verbose=0)\n",
    "print(\"\\nEvaluation on the test set:\")\n",
    "display(result)"
   ]
  },
  {
   "cell_type": "code",
   "execution_count": 9,
   "id": "47273abb",
   "metadata": {},
   "outputs": [
    {
     "data": {
      "image/png": "[encoded data removed]",
      "text/plain": [
       "<Figure size 720x288 with 2 Axes>"
      ]
     },
     "metadata": {
      "needs_background": "light"
     },
     "output_type": "display_data"
    }
   ],
   "source": [
    "plt.figure(figsize = (10, 4))\n",
    "plt.subplot(121)\n",
    "plt.title(\"Loss\")\n",
    "plt.plot(hist.history[\"root_mean_squared_error\"], label = \"train\")\n",
    "plt.plot(hist.history[\"val_root_mean_squared_error\"], label = \"val\")\n",
    "plt.legend()\n",
    "plt.subplot(122)\n",
    "plt.plot(hist.history[\"val_mean_absolute_error\"])\n",
    "plt.title(\"Val MAE\")\n",
    "plt.tight_layout()"
   ]
  },
  {
   "cell_type": "markdown",
   "id": "dc8ad794",
   "metadata": {},
   "source": [
    "# User/item features with matrix factorization model + linear layers"
   ]
  },
  {
   "cell_type": "code",
   "execution_count": 10,
   "id": "ebe7dd19",
   "metadata": {},
   "outputs": [],
   "source": [
    "def df_to_ds(df):\n",
    "    return {\n",
    "        \"user_id\" : tf.constant(df['userid'].values.astype(str)),\n",
    "        \"item_id\" : tf.constant(df['itemid'].values.astype(str)),\n",
    "        \"user_features\" : tf.constant(df[df.columns[user_column_index]].values),\n",
    "        \"item_features\" : tf.constant(df[df.columns[item_column_index]].values),\n",
    "        'rating' : tf.constant(df['rating'].tolist())\n",
    "    }"
   ]
  },
  {
   "cell_type": "code",
   "execution_count": 11,
   "id": "55a085e2",
   "metadata": {},
   "outputs": [],
   "source": [
    "class RankingModel(tfrs.Model):\n",
    "    def __init__(self, user_id, item_id, n_user_features, n_item_features,\n",
    "                 embedding_size):\n",
    "        super().__init__()\n",
    "\n",
    "        self.user_features_model = keras.Sequential([\n",
    "            keras.layers.Dense(units=100,\n",
    "                               activation=\"relu\",\n",
    "                               input_shape=(n_user_features, )),\n",
    "            keras.layers.Dropout(0.1),\n",
    "            keras.layers.Dense(units=50, activation=\"relu\"),\n",
    "            keras.layers.Dense(units=embedding_size),\n",
    "        ])\n",
    "\n",
    "        self.item_features_model = keras.Sequential([\n",
    "            keras.layers.Dense(units=100,\n",
    "                               activation=\"relu\",\n",
    "                               input_shape=(n_item_features, )),\n",
    "            keras.layers.Dropout(0.1),\n",
    "            keras.layers.Dense(units=50, activation=\"relu\"),\n",
    "            keras.layers.Dense(units=embedding_size),\n",
    "        ])\n",
    "        # user model\n",
    "        input = keras.Input(shape=(), dtype=tf.string)\n",
    "        x = tf.keras.layers.StringLookup(vocabulary=user_id,\n",
    "                                         mask_token=None)(input)\n",
    "        output = keras.layers.Embedding(input_dim=len(user_id) + 1,\n",
    "                                        output_dim=embedding_size,\n",
    "                                        name='embedding')(x)\n",
    "        self.user_model = keras.Model(inputs=input,\n",
    "                                      outputs=output,\n",
    "                                      name='user_model')\n",
    "\n",
    "        # item model\n",
    "        input = keras.Input(shape=(), dtype=tf.string)\n",
    "        x = tf.keras.layers.StringLookup(vocabulary=item_id,\n",
    "                                         mask_token=None)(input)\n",
    "        output = keras.layers.Embedding(input_dim=len(item_id) + 1,\n",
    "                                        output_dim=embedding_size,\n",
    "                                        name='embedding')(x)\n",
    "        self.item_model = keras.Model(inputs=input,\n",
    "                                      outputs=output,\n",
    "                                      name='item_model')\n",
    "\n",
    "        # rating model\n",
    "        concat_shape = self.user_model.layers[-1].output_shape[1] \\\n",
    "        + self.item_model.layers[-1].output_shape[1] \\\n",
    "        + self.user_features_model.layers[-1].output_shape[1] \\\n",
    "        + self.item_features_model.layers[-1].output_shape[1]\n",
    "        print(f\"concat_shape {concat_shape}\")\n",
    "\n",
    "        input = keras.Input(shape=(concat_shape, ))\n",
    "        x = keras.layers.Dense(400, activation='relu')(input)\n",
    "        x = keras.layers.Dense(64, activation='relu')(x)\n",
    "        output = keras.layers.Dense(1)(x)\n",
    "\n",
    "        self.ratings = keras.Model(inputs=input,\n",
    "                                   outputs=output,\n",
    "                                   name='rating_model')\n",
    "\n",
    "    def call(self, inputs):\n",
    "\n",
    "        user_id, item_id, user_features, item_features = inputs\n",
    "\n",
    "        user_emb = self.user_model(user_id)\n",
    "        item_emb = self.item_model(item_id)\n",
    "        user_features_emb = self.user_features_model(user_features)\n",
    "        item_features_emb = self.item_features_model(item_features)\n",
    "        concat = tf.concat(\n",
    "            [user_emb, item_emb, user_features_emb, item_features_emb], axis=1)\n",
    "        prediction = self.ratings(concat)\n",
    "\n",
    "        return prediction\n",
    "\n",
    "\n",
    "class GMFModel(tfrs.models.Model):\n",
    "    def __init__(self, user_id, item_id, n_user_features, n_item_features,\n",
    "                 embedding_size):\n",
    "        super().__init__()\n",
    "        self.ranking_model = RankingModel(user_id, item_id, n_user_features,\n",
    "                                          n_item_features, embedding_size)\n",
    "        self.task = tfrs.tasks.Ranking(\n",
    "            loss=keras.losses.MeanSquaredError(),\n",
    "            metrics=[\n",
    "                keras.metrics.RootMeanSquaredError(),\n",
    "                keras.metrics.MeanAbsoluteError()\n",
    "            ])\n",
    "\n",
    "    def call(self, features):\n",
    "        return self.ranking_model(\n",
    "            (features[0]['user_id'], features[0]['item_id'],\n",
    "             features[0]['user_features'], features[0]['item_features']))\n",
    "\n",
    "    def compute_loss(self, features, training=False):\n",
    "        label = features[0]['rating']\n",
    "        return self.task(labels=label, predictions=self(features))"
   ]
  },
  {
   "cell_type": "code",
   "execution_count": 12,
   "id": "be79f30c",
   "metadata": {},
   "outputs": [],
   "source": [
    "train, val, test = df_to_ds(train_df), df_to_ds(val_df), df_to_ds(test_df)"
   ]
  },
  {
   "cell_type": "code",
   "execution_count": 13,
   "id": "0f06b67d",
   "metadata": {},
   "outputs": [
    {
     "name": "stdout",
     "output_type": "stream",
     "text": [
      "concat_shape 128\n"
     ]
    }
   ],
   "source": [
    "# init model\n",
    "embedding_size = 32\n",
    "model = GMFModel(train_df[\"userid\"].unique().astype(str),\n",
    "                 train_df[\"itemid\"].unique().astype(str),\n",
    "                 len(user_column_index), len(item_column_index),\n",
    "                 embedding_size)\n",
    "model.compile(optimizer=keras.optimizers.Adagrad(learning_rate=.01))"
   ]
  },
  {
   "cell_type": "code",
   "execution_count": 14,
   "id": "84474356",
   "metadata": {},
   "outputs": [],
   "source": [
    "# fitting the model\n",
    "hist = model.fit(train, epochs=100, verbose=False, validation_data=val)"
   ]
  },
  {
   "cell_type": "code",
   "execution_count": 15,
   "id": "85298fcf",
   "metadata": {},
   "outputs": [
    {
     "data": {
      "image/png": "[encoded data removed]",
      "text/plain": [
       "<Figure size 720x288 with 2 Axes>"
      ]
     },
     "metadata": {
      "needs_background": "light"
     },
     "output_type": "display_data"
    }
   ],
   "source": [
    "plt.figure(figsize = (10, 4))\n",
    "plt.subplot(121)\n",
    "plt.title(\"Loss\")\n",
    "plt.plot(hist.history[\"root_mean_squared_error\"], label = \"train\")\n",
    "plt.plot(hist.history[\"val_root_mean_squared_error\"], label = \"val\")\n",
    "plt.legend()\n",
    "plt.subplot(122)\n",
    "plt.plot(hist.history[\"val_mean_absolute_error\"])\n",
    "plt.title(\"Val MAE\")\n",
    "plt.tight_layout()"
   ]
  },
  {
   "cell_type": "code",
   "execution_count": 16,
   "id": "808684da",
   "metadata": {},
   "outputs": [
    {
     "name": "stdout",
     "output_type": "stream",
     "text": [
      "\n",
      "Evaluation on the test set:\n"
     ]
    },
    {
     "data": {
      "text/plain": [
       "{'root_mean_squared_error': 0.19617027044296265,\n",
       " 'mean_absolute_error': 0.15373650193214417,\n",
       " 'loss': 0.04174121469259262,\n",
       " 'regularization_loss': 0,\n",
       " 'total_loss': 0.04174121469259262}"
      ]
     },
     "metadata": {},
     "output_type": "display_data"
    }
   ],
   "source": [
    "# evaluate with the test data\n",
    "result = model.evaluate(test, return_dict=True, verbose=0)\n",
    "print(\"\\nEvaluation on the test set:\")\n",
    "display(result)"
   ]
  },
  {
   "cell_type": "code",
   "execution_count": null,
   "id": "0c5d7360",
   "metadata": {},
   "outputs": [],
   "source": []
  }
 ],
 "metadata": {
  "kernelspec": {
   "display_name": "Python 3",
   "language": "python",
   "name": "python3"
  },
  "language_info": {
   "codemirror_mode": {
    "name": "ipython",
    "version": 3
   },
   "file_extension": ".py",
   "mimetype": "text/x-python",
   "name": "python",
   "nbconvert_exporter": "python",
   "pygments_lexer": "ipython3",
   "version": "3.7.4"
  }
 },
 "nbformat": 4,
 "nbformat_minor": 5
}
