{
 "cells": [
  {
   "cell_type": "markdown",
   "id": "ff6c8867",
   "metadata": {},
   "source": [
    "# Summary\n",
    "\n",
    "This notebook builds upon the tutorial:\n",
    "\n",
    "https://blog.fastforwardlabs.com/2018/04/10/pytorch-for-recommenders-101.html"
   ]
  },
  {
   "cell_type": "code",
   "execution_count": 1,
   "id": "1cb77b87",
   "metadata": {},
   "outputs": [
    {
     "data": {
      "text/plain": [
       "device(type='cuda')"
      ]
     },
     "execution_count": 1,
     "metadata": {},
     "output_type": "execute_result"
    }
   ],
   "source": [
    "import pandas as pd\n",
    "from tqdm.notebook import tqdm\n",
    "import numpy as np\n",
    "import utils\n",
    "from sklearn.metrics import mean_absolute_error, mean_squared_error\n",
    "from sklearn.preprocessing import MinMaxScaler\n",
    "import torch\n",
    "from torch.autograd import Variable\n",
    "from torch.utils.data import Dataset, DataLoader\n",
    "import torch.nn.functional as F\n",
    "device = torch.device('cuda' if torch.cuda.is_available() else 'cpu')\n",
    "import matplotlib.pyplot as plt\n",
    "device"
   ]
  },
  {
   "cell_type": "code",
   "execution_count": 2,
   "id": "b7926282",
   "metadata": {},
   "outputs": [
    {
     "name": "stdout",
     "output_type": "stream",
     "text": [
      "(100000, 4)\n",
      "(1682, 24)\n",
      "(943, 5)\n"
     ]
    }
   ],
   "source": [
    "rating, user_column_index, item_column_index = utils.get_movielens_data()"
   ]
  },
  {
   "cell_type": "code",
   "execution_count": 3,
   "id": "13e19812",
   "metadata": {},
   "outputs": [],
   "source": [
    "# Data preprocessing\n",
    "rating[\"rating\"] = rating[\"rating\"]/5\n",
    "# rating[\"rating\"] =  MinMaxScaler().fit_transform(rating[[\"rating\"]].values).reshape(-1)"
   ]
  },
  {
   "cell_type": "code",
   "execution_count": 7,
   "id": "18d43bdf",
   "metadata": {},
   "outputs": [
    {
     "name": "stdout",
     "output_type": "stream",
     "text": [
      "944 1683\n"
     ]
    },
    {
     "data": {
      "text/plain": [
       "((98105, 49), (943, 49))"
      ]
     },
     "execution_count": 7,
     "metadata": {},
     "output_type": "execute_result"
    }
   ],
   "source": [
    "n_users = rating[\"userid\"].max() + 1\n",
    "n_items = rating[\"itemid\"].max() + 1\n",
    "print(n_users, n_items)\n",
    "train_df, test_df = utils.movielens_train_test_split(rating)\n",
    "train_df.shape, test_df.shape\n",
    "\n",
    "train_df, val_df = utils.movielens_train_test_split(train_df)\n",
    "train_df.shape, val_df.shape"
   ]
  },
  {
   "cell_type": "code",
   "execution_count": 8,
   "id": "adc7f980",
   "metadata": {},
   "outputs": [
    {
     "data": {
      "text/plain": [
       "<AxesSubplot:>"
      ]
     },
     "execution_count": 8,
     "metadata": {},
     "output_type": "execute_result"
    },
    {
     "data": {
      "image/png": "[encoded data removed]",
      "text/plain": [
       "<Figure size 432x288 with 1 Axes>"
      ]
     },
     "metadata": {
      "needs_background": "light"
     },
     "output_type": "display_data"
    }
   ],
   "source": [
    "test_df[\"rating\"].hist()"
   ]
  },
  {
   "cell_type": "code",
   "execution_count": 9,
   "id": "930d4131",
   "metadata": {},
   "outputs": [
    {
     "name": "stdout",
     "output_type": "stream",
     "text": [
      "0.19339420117424932\n",
      "0.19594300758655422\n",
      "0.17985153764581127\n",
      "0.17985153764581127\n"
     ]
    }
   ],
   "source": [
    "print(np.mean(np.abs(test_df[\"rating\"].values - test_df[\"rating\"].mean())))\n",
    "print(np.mean(np.abs(test_df[\"rating\"].values - train_df[\"rating\"].mean())))\n",
    "print(np.mean(np.abs(test_df[\"rating\"].values - train_df[\"rating\"].mode()[0])))\n",
    "print(np.mean(np.abs(test_df[\"rating\"].values - test_df[\"rating\"].mode()[0])))"
   ]
  },
  {
   "cell_type": "markdown",
   "id": "08bafbf2",
   "metadata": {},
   "source": [
    "# Model definition"
   ]
  },
  {
   "cell_type": "code",
   "execution_count": 10,
   "id": "60bbb6c7",
   "metadata": {},
   "outputs": [],
   "source": [
    "class DenseNet(torch.nn.Module):\n",
    "    def __init__(self, n_users, n_items, n_factors, H1, D_out):\n",
    "        \"\"\"\n",
    "        Simple Feedforward with Embeddings\n",
    "        \"\"\"\n",
    "        super().__init__()\n",
    "        # user and item embedding layers\n",
    "        sparse = False\n",
    "        self.user_factors = torch.nn.Embedding(n_users,\n",
    "                                               n_factors,\n",
    "                                               sparse=sparse)\n",
    "        self.item_factors = torch.nn.Embedding(n_items,\n",
    "                                               n_factors,\n",
    "                                               sparse=sparse)\n",
    "        # linear layers\n",
    "        self.linear = torch.nn.Sequential(\n",
    "            torch.nn.Linear(n_factors * 2, 4 * H1), torch.nn.ReLU(),\n",
    "            torch.nn.Linear(4 * H1, H1), torch.nn.ReLU(),\n",
    "            torch.nn.Linear(H1, D_out))\n",
    "\n",
    "    def forward(self, users, items):\n",
    "        users_embedding = self.user_factors(users)\n",
    "        items_embedding = self.item_factors(items)\n",
    "        # concatenate user and item embeddings to form input\n",
    "        x = torch.cat([users_embedding, items_embedding], 1)\n",
    "        output_scores = self.linear(x)\n",
    "        return output_scores\n",
    "\n",
    "    def predict(self, users, items):\n",
    "        # return the score\n",
    "        output_scores = self.forward(users, items)\n",
    "        return output_scores"
   ]
  },
  {
   "cell_type": "code",
   "execution_count": 11,
   "id": "4c95c983",
   "metadata": {},
   "outputs": [
    {
     "data": {
      "text/plain": [
       "DenseNet(\n",
       "  (user_factors): Embedding(944, 20)\n",
       "  (item_factors): Embedding(1683, 20)\n",
       "  (linear): Sequential(\n",
       "    (0): Linear(in_features=40, out_features=80, bias=True)\n",
       "    (1): ReLU()\n",
       "    (2): Linear(in_features=80, out_features=20, bias=True)\n",
       "    (3): ReLU()\n",
       "    (4): Linear(in_features=20, out_features=1, bias=True)\n",
       "  )\n",
       ")"
      ]
     },
     "execution_count": 11,
     "metadata": {},
     "output_type": "execute_result"
    }
   ],
   "source": [
    "model = DenseNet(n_users, n_items, n_factors=20, H1 = 20, D_out= 1)\n",
    "loss_fn = torch.nn.MSELoss()\n",
    "# optimizer = torch.optim.SGD(model.parameters(), lr=1e-2)\n",
    "optimizer = torch.optim.Adam(model.parameters(), lr=1e-2)\n",
    "trainloader = DataLoader(train_df.values, batch_size=128, shuffle=True)\n",
    "valloader = DataLoader(val_df.values, batch_size=128)\n",
    "testloader = DataLoader(test_df.values, batch_size=128)\n",
    "model = model.to(device)\n",
    "model"
   ]
  },
  {
   "cell_type": "code",
   "execution_count": 12,
   "id": "fa0e66ea",
   "metadata": {},
   "outputs": [],
   "source": [
    "def evaluate(loader):\n",
    "    maes = []\n",
    "    for batch in loader:\n",
    "        user = batch[:, 0].type(torch.LongTensor).to(device)\n",
    "        item = batch[:, 1].type(torch.LongTensor).to(device)\n",
    "\n",
    "        score = batch[:, 2].type(torch.FloatTensor)\n",
    "        prediction = model(user, item)\n",
    "        mae = mean_absolute_error(score.cpu().detach().numpy(),  prediction.cpu().detach().numpy())\n",
    "        maes.append(mae)\n",
    "    return np.mean(maes)"
   ]
  },
  {
   "cell_type": "markdown",
   "id": "370004eb",
   "metadata": {},
   "source": [
    "## Model training"
   ]
  },
  {
   "cell_type": "code",
   "execution_count": 1,
   "id": "debcfe45",
   "metadata": {},
   "outputs": [],
   "source": [
    "losses = []\n",
    "val_scores = []\n",
    "test_scores = []\n",
    "for epoch in range(100):\n",
    "    losses_epoch = []\n",
    "    for batch in tqdm(trainloader):\n",
    "        optimizer.zero_grad()\n",
    "        user = batch[:, 0].type(torch.LongTensor).to(device)\n",
    "        item = batch[:, 1].type(torch.LongTensor).to(device)\n",
    "\n",
    "        score = batch[:, 2].view(-1, 1).type(torch.FloatTensor)\n",
    "        prediction = model(user, item)\n",
    "        loss = loss_fn(prediction, score.to(device))\n",
    "        loss.backward()\n",
    "        torch.nn.utils.clip_grad_norm_(model.parameters(), 5)\n",
    "        optimizer.step()\n",
    "        losses_epoch.append(loss.item())\n",
    "    losses.append(np.mean(losses_epoch))\n",
    "    val_scores.append(evaluate(valloader))\n",
    "    test_scores.append(evaluate(testloader))\n",
    "    print(losses[-1])\n",
    "    print(f\"{epoch}) VAL {val_scores[-1]}, TEST {test_scores[-1]}\")"
   ]
  },
  {
   "cell_type": "markdown",
   "id": "4ed65f2c",
   "metadata": {},
   "source": [
    "# Visualize results"
   ]
  },
  {
   "cell_type": "code",
   "execution_count": 16,
   "id": "62576e05",
   "metadata": {},
   "outputs": [
    {
     "data": {
      "text/plain": [
       "[<matplotlib.lines.Line2D at 0x7fe08aa14750>]"
      ]
     },
     "execution_count": 16,
     "metadata": {},
     "output_type": "execute_result"
    },
    {
     "data": {
      "image/png": "[encoded data removed]",
      "text/plain": [
       "<Figure size 864x360 with 3 Axes>"
      ]
     },
     "metadata": {
      "needs_background": "light"
     },
     "output_type": "display_data"
    }
   ],
   "source": [
    "plt.figure(figsize = (12, 5))\n",
    "plt.subplot(131)\n",
    "plt.title(\"Losses\")\n",
    "plt.plot(losses)\n",
    "plt.subplot(132)\n",
    "plt.title(\"Val MAE\")\n",
    "plt.plot(val_scores)\n",
    "\n",
    "plt.subplot(133)\n",
    "plt.title(\"Test MAE\")\n",
    "plt.plot(test_scores)\n",
    "plt.tight_layout()"
   ]
  },
  {
   "cell_type": "code",
   "execution_count": null,
   "id": "86e7e33e",
   "metadata": {},
   "outputs": [],
   "source": []
  },
  {
   "cell_type": "code",
   "execution_count": null,
   "id": "15f5fc2a",
   "metadata": {},
   "outputs": [],
   "source": []
  }
 ],
 "metadata": {
  "kernelspec": {
   "display_name": "Python 3",
   "language": "python",
   "name": "python3"
  },
  "language_info": {
   "codemirror_mode": {
    "name": "ipython",
    "version": 3
   },
   "file_extension": ".py",
   "mimetype": "text/x-python",
   "name": "python",
   "nbconvert_exporter": "python",
   "pygments_lexer": "ipython3",
   "version": "3.7.4"
  }
 },
 "nbformat": 4,
 "nbformat_minor": 5
}
