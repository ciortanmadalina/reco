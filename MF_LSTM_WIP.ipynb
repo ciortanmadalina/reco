{
 "cells": [
  {
   "cell_type": "markdown",
   "id": "a6d6e511",
   "metadata": {},
   "source": [
    "https://blog.fastforwardlabs.com/2018/04/10/pytorch-for-recommenders-101.html"
   ]
  },
  {
   "cell_type": "code",
   "execution_count": 1,
   "id": "c0065936",
   "metadata": {},
   "outputs": [
    {
     "data": {
      "text/plain": [
       "device(type='cuda')"
      ]
     },
     "execution_count": 1,
     "metadata": {},
     "output_type": "execute_result"
    }
   ],
   "source": [
    "import pandas as pd\n",
    "from tqdm.notebook import tqdm\n",
    "import numpy as np\n",
    "import utils\n",
    "import torch.nn as nn\n",
    "from sklearn.metrics import mean_absolute_error, mean_squared_error\n",
    "from sklearn.preprocessing import MinMaxScaler\n",
    "import torch\n",
    "from torch.autograd import Variable\n",
    "from torch.utils.data import Dataset, DataLoader\n",
    "import torch.nn.functional as F\n",
    "device = torch.device('cuda' if torch.cuda.is_available() else 'cpu')\n",
    "import matplotlib.pyplot as plt\n",
    "device"
   ]
  },
  {
   "cell_type": "code",
   "execution_count": 2,
   "id": "fceaeed8",
   "metadata": {},
   "outputs": [
    {
     "name": "stdout",
     "output_type": "stream",
     "text": [
      "(100000, 4)\n",
      "(1682, 24)\n",
      "(943, 5)\n"
     ]
    }
   ],
   "source": [
    "rating, user_column_index, item_column_index = utils.get_movielens_data()"
   ]
  },
  {
   "cell_type": "code",
   "execution_count": 3,
   "id": "e3b109f4",
   "metadata": {},
   "outputs": [],
   "source": [
    "rating = rating[['userid', 'itemid', 'rating', 'timestep']]\n",
    "\n",
    "rating = rating.groupby(\"userid\").agg({\n",
    "    \"itemid\": list,\n",
    "    \"rating\": list,\n",
    "    \"timestep\": \"count\"\n",
    "}).reset_index().rename(columns = {\"timestep\": \"count\"})"
   ]
  },
  {
   "cell_type": "code",
   "execution_count": 4,
   "id": "45586f5d",
   "metadata": {},
   "outputs": [
    {
     "data": {
      "text/html": [
       "<div>\n",
       "<style scoped>\n",
       "    .dataframe tbody tr th:only-of-type {\n",
       "        vertical-align: middle;\n",
       "    }\n",
       "\n",
       "    .dataframe tbody tr th {\n",
       "        vertical-align: top;\n",
       "    }\n",
       "\n",
       "    .dataframe thead th {\n",
       "        text-align: right;\n",
       "    }\n",
       "</style>\n",
       "<table border=\"1\" class=\"dataframe\">\n",
       "  <thead>\n",
       "    <tr style=\"text-align: right;\">\n",
       "      <th></th>\n",
       "      <th>userid</th>\n",
       "      <th>itemid</th>\n",
       "      <th>rating</th>\n",
       "      <th>count</th>\n",
       "    </tr>\n",
       "  </thead>\n",
       "  <tbody>\n",
       "    <tr>\n",
       "      <th>0</th>\n",
       "      <td>1</td>\n",
       "      <td>[61, 189, 33, 160, 20, 202, 171, 265, 155, 117...</td>\n",
       "      <td>[4, 3, 4, 4, 4, 5, 5, 4, 2, 3, 4, 4, 5, 5, 4, ...</td>\n",
       "      <td>271</td>\n",
       "    </tr>\n",
       "    <tr>\n",
       "      <th>1</th>\n",
       "      <td>2</td>\n",
       "      <td>[292, 251, 50, 314, 297, 290, 312, 281, 13, 28...</td>\n",
       "      <td>[4, 5, 5, 1, 4, 3, 3, 3, 4, 3, 4, 3, 3, 4, 5, ...</td>\n",
       "      <td>62</td>\n",
       "    </tr>\n",
       "    <tr>\n",
       "      <th>2</th>\n",
       "      <td>3</td>\n",
       "      <td>[335, 245, 337, 343, 323, 331, 294, 332, 328, ...</td>\n",
       "      <td>[1, 1, 1, 3, 2, 4, 2, 1, 5, 3, 3, 1, 4, 2, 3, ...</td>\n",
       "      <td>54</td>\n",
       "    </tr>\n",
       "    <tr>\n",
       "      <th>3</th>\n",
       "      <td>4</td>\n",
       "      <td>[264, 303, 361, 357, 260, 356, 294, 288, 50, 3...</td>\n",
       "      <td>[3, 5, 5, 4, 4, 3, 5, 4, 5, 5, 4, 5, 3, 5, 3, ...</td>\n",
       "      <td>24</td>\n",
       "    </tr>\n",
       "    <tr>\n",
       "      <th>4</th>\n",
       "      <td>5</td>\n",
       "      <td>[2, 17, 439, 225, 110, 454, 424, 1, 363, 98, 1...</td>\n",
       "      <td>[3, 4, 1, 2, 1, 1, 1, 4, 3, 3, 3, 4, 5, 2, 4, ...</td>\n",
       "      <td>174</td>\n",
       "    </tr>\n",
       "    <tr>\n",
       "      <th>...</th>\n",
       "      <td>...</td>\n",
       "      <td>...</td>\n",
       "      <td>...</td>\n",
       "      <td>...</td>\n",
       "    </tr>\n",
       "    <tr>\n",
       "      <th>938</th>\n",
       "      <td>939</td>\n",
       "      <td>[931, 106, 258, 1054, 689, 476, 409, 121, 1190...</td>\n",
       "      <td>[2, 3, 4, 4, 5, 5, 4, 5, 5, 4, 5, 4, 5, 3, 2, ...</td>\n",
       "      <td>49</td>\n",
       "    </tr>\n",
       "    <tr>\n",
       "      <th>939</th>\n",
       "      <td>940</td>\n",
       "      <td>[193, 568, 14, 205, 272, 655, 315, 66, 873, 28...</td>\n",
       "      <td>[3, 3, 3, 3, 4, 4, 4, 4, 3, 3, 5, 5, 4, 3, 5, ...</td>\n",
       "      <td>107</td>\n",
       "    </tr>\n",
       "    <tr>\n",
       "      <th>940</th>\n",
       "      <td>941</td>\n",
       "      <td>[147, 124, 117, 181, 993, 258, 7, 475, 257, 15...</td>\n",
       "      <td>[4, 5, 5, 5, 4, 4, 4, 4, 4, 4, 4, 2, 2, 3, 5, ...</td>\n",
       "      <td>22</td>\n",
       "    </tr>\n",
       "    <tr>\n",
       "      <th>941</th>\n",
       "      <td>942</td>\n",
       "      <td>[117, 200, 604, 423, 261, 427, 487, 323, 615, ...</td>\n",
       "      <td>[4, 4, 4, 5, 4, 5, 4, 3, 3, 4, 5, 3, 3, 2, 4, ...</td>\n",
       "      <td>79</td>\n",
       "    </tr>\n",
       "    <tr>\n",
       "      <th>942</th>\n",
       "      <td>943</td>\n",
       "      <td>[58, 111, 11, 570, 232, 1067, 808, 356, 186, 2...</td>\n",
       "      <td>[4, 4, 4, 1, 4, 2, 4, 4, 5, 5, 2, 4, 4, 5, 4, ...</td>\n",
       "      <td>168</td>\n",
       "    </tr>\n",
       "  </tbody>\n",
       "</table>\n",
       "<p>943 rows × 4 columns</p>\n",
       "</div>"
      ],
      "text/plain": [
       "     userid                                             itemid  \\\n",
       "0         1  [61, 189, 33, 160, 20, 202, 171, 265, 155, 117...   \n",
       "1         2  [292, 251, 50, 314, 297, 290, 312, 281, 13, 28...   \n",
       "2         3  [335, 245, 337, 343, 323, 331, 294, 332, 328, ...   \n",
       "3         4  [264, 303, 361, 357, 260, 356, 294, 288, 50, 3...   \n",
       "4         5  [2, 17, 439, 225, 110, 454, 424, 1, 363, 98, 1...   \n",
       "..      ...                                                ...   \n",
       "938     939  [931, 106, 258, 1054, 689, 476, 409, 121, 1190...   \n",
       "939     940  [193, 568, 14, 205, 272, 655, 315, 66, 873, 28...   \n",
       "940     941  [147, 124, 117, 181, 993, 258, 7, 475, 257, 15...   \n",
       "941     942  [117, 200, 604, 423, 261, 427, 487, 323, 615, ...   \n",
       "942     943  [58, 111, 11, 570, 232, 1067, 808, 356, 186, 2...   \n",
       "\n",
       "                                                rating  count  \n",
       "0    [4, 3, 4, 4, 4, 5, 5, 4, 2, 3, 4, 4, 5, 5, 4, ...    271  \n",
       "1    [4, 5, 5, 1, 4, 3, 3, 3, 4, 3, 4, 3, 3, 4, 5, ...     62  \n",
       "2    [1, 1, 1, 3, 2, 4, 2, 1, 5, 3, 3, 1, 4, 2, 3, ...     54  \n",
       "3    [3, 5, 5, 4, 4, 3, 5, 4, 5, 5, 4, 5, 3, 5, 3, ...     24  \n",
       "4    [3, 4, 1, 2, 1, 1, 1, 4, 3, 3, 3, 4, 5, 2, 4, ...    174  \n",
       "..                                                 ...    ...  \n",
       "938  [2, 3, 4, 4, 5, 5, 4, 5, 5, 4, 5, 4, 5, 3, 2, ...     49  \n",
       "939  [3, 3, 3, 3, 4, 4, 4, 4, 3, 3, 5, 5, 4, 3, 5, ...    107  \n",
       "940  [4, 5, 5, 5, 4, 4, 4, 4, 4, 4, 4, 2, 2, 3, 5, ...     22  \n",
       "941  [4, 4, 4, 5, 4, 5, 4, 3, 3, 4, 5, 3, 3, 2, 4, ...     79  \n",
       "942  [4, 4, 4, 1, 4, 2, 4, 4, 5, 5, 2, 4, 4, 5, 4, ...    168  \n",
       "\n",
       "[943 rows x 4 columns]"
      ]
     },
     "execution_count": 4,
     "metadata": {},
     "output_type": "execute_result"
    }
   ],
   "source": [
    "rating"
   ]
  },
  {
   "cell_type": "code",
   "execution_count": null,
   "id": "e1528123",
   "metadata": {},
   "outputs": [],
   "source": [
    "rating[\"rating\"] = rating[\"rating\"]/5\n",
    "# rating[\"rating\"] =  MinMaxScaler().fit_transform(rating[[\"rating\"]].values).reshape(-1)"
   ]
  },
  {
   "cell_type": "code",
   "execution_count": null,
   "id": "4463c683",
   "metadata": {},
   "outputs": [],
   "source": [
    "n_users = rating[\"userid\"].max() + 1\n",
    "n_items = rating[\"itemid\"].max() + 1\n",
    "print(n_users, n_items)\n",
    "train_df, test_df = utils.movielens_train_test_split(rating)\n",
    "train_df.shape, test_df.shape\n",
    "\n",
    "train_df, val_df = utils.movielens_train_test_split(train_df)\n",
    "train_df.shape, val_df.shape"
   ]
  },
  {
   "cell_type": "code",
   "execution_count": null,
   "id": "47543e26",
   "metadata": {},
   "outputs": [],
   "source": [
    "test_df[\"rating\"].hist()"
   ]
  },
  {
   "cell_type": "code",
   "execution_count": null,
   "id": "a9628e79",
   "metadata": {},
   "outputs": [],
   "source": [
    "print(np.mean(np.abs(test_df[\"rating\"].values - test_df[\"rating\"].mean())))\n",
    "print(np.mean(np.abs(test_df[\"rating\"].values - train_df[\"rating\"].mean())))\n",
    "print(np.mean(np.abs(test_df[\"rating\"].values - train_df[\"rating\"].mode()[0])))\n",
    "print(np.mean(np.abs(test_df[\"rating\"].values - test_df[\"rating\"].mode()[0])))"
   ]
  },
  {
   "cell_type": "markdown",
   "id": "076cfae9",
   "metadata": {},
   "source": [
    "# Model definition"
   ]
  },
  {
   "cell_type": "code",
   "execution_count": null,
   "id": "f67d108a",
   "metadata": {},
   "outputs": [],
   "source": [
    "class DenseNetWithFeatures(nn.Module):\n",
    "    def __init__(self, n_users, n_items, n_factors, H1, D_out, n_user_features,\n",
    "                 n_item_features):\n",
    "        \"\"\"\n",
    "        Simple Feedforward with Embeddings\n",
    "        \"\"\"\n",
    "        super().__init__()\n",
    "        # user and item embedding layers\n",
    "        self.user_factors = torch.nn.Embedding(n_users, n_factors, sparse=False)\n",
    "        self.item_factors = torch.nn.Embedding(n_items, n_factors, sparse=False)\n",
    "        # linear layers\n",
    "        self.linear1 = torch.nn.Linear(n_factors * 4, H1)\n",
    "        self.linear2 = torch.nn.Linear(H1, D_out)\n",
    "        self.user_features = nn.Sequential(\n",
    "            torch.nn.Linear(n_user_features, n_factors), torch.nn.ReLU(),\n",
    "            torch.nn.Linear(n_factors, n_factors))\n",
    "        self.item_features = nn.Sequential(\n",
    "            torch.nn.Linear(n_item_features, n_factors), torch.nn.ReLU(),\n",
    "            torch.nn.Linear(n_factors, n_factors),\n",
    "            torch.nn.Sigmoid()\n",
    "        )\n",
    "\n",
    "    def forward(self, users, items, user_features, item_features):\n",
    "        users_embedding = self.user_factors(users)\n",
    "        items_embedding = self.item_factors(items)\n",
    "        user_features_embedding = self.user_features(user_features)\n",
    "        item_features_embedding = self.item_features(item_features)\n",
    "        # concatenate user and item embeddings to form input\n",
    "        x = torch.cat([\n",
    "            users_embedding, items_embedding, user_features_embedding,\n",
    "            item_features_embedding\n",
    "        ], 1)\n",
    "        h1_relu = F.relu(self.linear1(x))\n",
    "        output_scores = self.linear2(h1_relu)\n",
    "        return output_scores\n",
    "\n",
    "    def predict(self, users, items):\n",
    "        # return the score\n",
    "        output_scores = self.forward(users, items)\n",
    "        return output_scores\n",
    "\n"
   ]
  },
  {
   "cell_type": "code",
   "execution_count": null,
   "id": "75bb2317",
   "metadata": {},
   "outputs": [],
   "source": [
    "model = DenseNetWithFeatures(n_users,\n",
    "                             n_items,\n",
    "                             n_factors=20,\n",
    "                             H1=20,\n",
    "                             D_out=1,\n",
    "                             n_user_features=len(user_column_index),\n",
    "                             n_item_features=len(item_column_index))\n",
    "loss_fn = torch.nn.MSELoss()\n",
    "# optimizer = torch.optim.SGD(model.parameters(), lr=1e-2)\n",
    "optimizer = torch.optim.Adam(model.parameters(), lr=0.01)\n",
    "# scheduler = torch.optim.lr_scheduler.ExponentialLR(optimizer, gamma=0.1)\n",
    "# scheduler = None\n",
    "scheduler = torch.optim.lr_scheduler.StepLR(optimizer, step_size=100, gamma=0.1)\n",
    "# scheduler = torch.optim.lr_scheduler.StepLR(optimizer, step_size=100, gamma=0.9)\n",
    "# lmbda = lambda epoch: 0.65 ** epoch\n",
    "# scheduler = torch.optim.lr_scheduler.MultiplicativeLR(optimizer, lr_lambda=lmbda)\n",
    "trainloader = DataLoader(train_df.values, batch_size=128, shuffle=True)\n",
    "valloader = DataLoader(val_df.values, batch_size=128)\n",
    "testloader = DataLoader(test_df.values, batch_size=128)\n",
    "model = model.to(device)\n",
    "model"
   ]
  },
  {
   "cell_type": "code",
   "execution_count": null,
   "id": "b756b2fa",
   "metadata": {},
   "outputs": [],
   "source": [
    "def evaluate(loader):\n",
    "    maes = []\n",
    "    for batch in loader:\n",
    "        user = batch[:, 0].type(torch.LongTensor).to(device)\n",
    "        item = batch[:, 1].type(torch.LongTensor).to(device)\n",
    "        user_features = batch[:, user_column_index].type(torch.FloatTensor).to(device)\n",
    "        item_features = batch[:, item_column_index].type(torch.FloatTensor).to(device)\n",
    "\n",
    "        score = batch[:, 2].type(torch.FloatTensor)\n",
    "        prediction = model(user, item, user_features, item_features)\n",
    "        mae = mean_absolute_error(score.cpu().detach().numpy(),  prediction.cpu().detach().numpy())\n",
    "        maes.append(mae)\n",
    "    return np.mean(maes)"
   ]
  },
  {
   "cell_type": "code",
   "execution_count": null,
   "id": "d3349bff",
   "metadata": {},
   "outputs": [],
   "source": [
    "losses = []\n",
    "val_scores = []\n",
    "test_scores = []\n",
    "for epoch in range(100):\n",
    "    losses_epoch = []\n",
    "    for batch in tqdm(trainloader):\n",
    "        optimizer.zero_grad()\n",
    "        user = batch[:, 0].type(torch.LongTensor).to(device)\n",
    "        item = batch[:, 1].type(torch.LongTensor).to(device)\n",
    "        user_features = batch[:, user_column_index].type(torch.FloatTensor).to(device)\n",
    "        item_features = batch[:, item_column_index].type(torch.FloatTensor).to(device)\n",
    "        score = batch[:, 2].view(-1, 1).type(torch.FloatTensor)\n",
    "        prediction = model(user, item, user_features, item_features)\n",
    "        loss = loss_fn(prediction, score.to(device))\n",
    "        loss.backward()\n",
    "        torch.nn.utils.clip_grad_norm_(model.parameters(), 5)\n",
    "        optimizer.step()\n",
    "        losses_epoch.append(loss.item())\n",
    "    if scheduler is not None:\n",
    "        scheduler.step()\n",
    "    losses.append(np.mean(losses_epoch))\n",
    "    val_scores.append(evaluate(valloader))\n",
    "    test_scores.append(evaluate(testloader))\n",
    "    print(losses[-1])\n",
    "    print(f\"{epoch}) VAL {val_scores[-1]}, TEST {test_scores[-1]}\")"
   ]
  },
  {
   "cell_type": "code",
   "execution_count": null,
   "id": "7dc25ccc",
   "metadata": {},
   "outputs": [],
   "source": []
  },
  {
   "cell_type": "code",
   "execution_count": null,
   "id": "8d0240a4",
   "metadata": {},
   "outputs": [],
   "source": [
    "plt.figure(figsize = (12, 5))\n",
    "plt.subplot(131)\n",
    "plt.title(\"Losses\")\n",
    "plt.plot(losses)\n",
    "plt.subplot(132)\n",
    "plt.title(\"Val MAE\")\n",
    "plt.plot(val_scores)\n",
    "\n",
    "plt.subplot(133)\n",
    "plt.title(\"Test MAE\")\n",
    "plt.plot(test_scores)\n",
    "plt.tight_layout()"
   ]
  },
  {
   "cell_type": "code",
   "execution_count": null,
   "id": "b6d93cf2",
   "metadata": {},
   "outputs": [],
   "source": []
  },
  {
   "cell_type": "code",
   "execution_count": null,
   "id": "79767c33",
   "metadata": {},
   "outputs": [],
   "source": [
    "plt.figure(figsize = (12, 5))\n",
    "plt.subplot(131)\n",
    "plt.title(\"Losses\")\n",
    "plt.plot(losses)\n",
    "plt.subplot(132)\n",
    "plt.title(\"Val MAE\")\n",
    "plt.plot(val_scores)\n",
    "\n",
    "plt.subplot(133)\n",
    "plt.title(\"Test MAE\")\n",
    "plt.plot(test_scores)\n",
    "plt.tight_layout()"
   ]
  },
  {
   "cell_type": "code",
   "execution_count": null,
   "id": "66abe19c",
   "metadata": {},
   "outputs": [],
   "source": []
  },
  {
   "cell_type": "code",
   "execution_count": null,
   "id": "71a222cc",
   "metadata": {},
   "outputs": [],
   "source": []
  }
 ],
 "metadata": {
  "kernelspec": {
   "display_name": "Python 3",
   "language": "python",
   "name": "python3"
  },
  "language_info": {
   "codemirror_mode": {
    "name": "ipython",
    "version": 3
   },
   "file_extension": ".py",
   "mimetype": "text/x-python",
   "name": "python",
   "nbconvert_exporter": "python",
   "pygments_lexer": "ipython3",
   "version": "3.7.4"
  }
 },
 "nbformat": 4,
 "nbformat_minor": 5
}
